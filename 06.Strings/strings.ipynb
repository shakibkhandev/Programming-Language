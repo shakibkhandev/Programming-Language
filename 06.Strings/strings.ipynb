{
 "cells": [
  {
   "cell_type": "code",
   "execution_count": 1,
   "id": "35a04491",
   "metadata": {},
   "outputs": [
    {
     "name": "stdout",
     "output_type": "stream",
     "text": [
      "Hello\n",
      "Hello\n"
     ]
    }
   ],
   "source": [
    "# Python Strings\n",
    "# Strings\n",
    "# Strings in python are surrounded by either single quotation marks, or double quotation marks.\n",
    "\n",
    "# 'hello' is the same as \"hello\".\n",
    "\n",
    "# You can display a string literal with the print() function:\n",
    "\n",
    "print(\"Hello\")\n",
    "print('Hello')"
   ]
  },
  {
   "cell_type": "code",
   "execution_count": 2,
   "id": "18068833",
   "metadata": {},
   "outputs": [
    {
     "name": "stdout",
     "output_type": "stream",
     "text": [
      "It's alright\n",
      "He is called 'Johnny'\n",
      "He is called \"Johnny\"\n"
     ]
    }
   ],
   "source": [
    "# Quotes Inside Quotes\n",
    "# You can use quotes inside a string, as long as they don't match the quotes surrounding the string:\n",
    "\n",
    "# Example\n",
    "print(\"It's alright\")\n",
    "print(\"He is called 'Johnny'\")\n",
    "print('He is called \"Johnny\"')"
   ]
  },
  {
   "cell_type": "code",
   "execution_count": 4,
   "id": "c4e9ad07",
   "metadata": {},
   "outputs": [
    {
     "name": "stdout",
     "output_type": "stream",
     "text": [
      "Hello\n"
     ]
    }
   ],
   "source": [
    "# Assign String to a Variable\n",
    "# Assigning a string to a variable is done with the variable name followed by an equal sign and the string:\n",
    "\n",
    "# Example\n",
    "a = \"Hello\"\n",
    "print(a)"
   ]
  },
  {
   "cell_type": "code",
   "execution_count": null,
   "id": "9041deae",
   "metadata": {},
   "outputs": [
    {
     "name": "stdout",
     "output_type": "stream",
     "text": [
      "Lorem ipsum dolor sit amet,\n",
      "consectetur adipiscing elit,\n",
      "sed do eiusmod tempor incididunt\n",
      "ut labore et dolore magna aliqua.\n"
     ]
    }
   ],
   "source": [
    "# Multiline Strings\n",
    "# You can assign a multiline string to a variable by using three quotes:\n",
    "\n",
    "# Example\n",
    "# You can use three double quotes:\n",
    "\n",
    "a = \"\"\"Lorem ipsum dolor sit amet,\n",
    "consectetur adipiscing elit,\n",
    "sed do eiusmod tempor incididunt\n",
    "ut labore et dolore magna aliqua.\"\"\"\n",
    "print(a)\n",
    "\n",
    "# Or three single quotes:\n",
    "\n",
    "# Example\n",
    "a = '''Lorem ipsum dolor sit amet,\n",
    "consectetur adipiscing elit,\n",
    "sed do eiusmod tempor incididunt\n",
    "ut labore et dolore magna aliqua.'''\n",
    "print(a)"
   ]
  },
  {
   "cell_type": "code",
   "execution_count": 5,
   "id": "ab92c4fa",
   "metadata": {},
   "outputs": [
    {
     "name": "stdout",
     "output_type": "stream",
     "text": [
      "e\n"
     ]
    }
   ],
   "source": [
    "# Strings are Arrays\n",
    "# Like many other popular programming languages, strings in Python are arrays of bytes representing unicode characters.\n",
    "\n",
    "# However, Python does not have a character data type, a single character is simply a string with a length of 1.\n",
    "\n",
    "# Square brackets can be used to access elements of the string.\n",
    "\n",
    "# Example\n",
    "# Get the character at position 1 (remember that the first character has the position 0):\n",
    "\n",
    "a = \"Hello, World!\"\n",
    "print(a[1])"
   ]
  },
  {
   "cell_type": "code",
   "execution_count": 6,
   "id": "045adce7",
   "metadata": {},
   "outputs": [
    {
     "name": "stdout",
     "output_type": "stream",
     "text": [
      "b\n",
      "a\n",
      "n\n",
      "a\n",
      "n\n",
      "a\n"
     ]
    }
   ],
   "source": [
    "# Looping Through a String\n",
    "# Since strings are arrays, we can loop through the characters in a string, with a for loop.\n",
    "\n",
    "# Example\n",
    "# Loop through the letters in the word \"banana\":\n",
    "\n",
    "for x in \"banana\":\n",
    "  print(x)"
   ]
  },
  {
   "cell_type": "code",
   "execution_count": 9,
   "id": "49d62904",
   "metadata": {},
   "outputs": [
    {
     "name": "stdout",
     "output_type": "stream",
     "text": [
      "13\n",
      "Yes, 'free' is present.\n"
     ]
    }
   ],
   "source": [
    "# String Length\n",
    "# To get the length of a string, use the len() function.\n",
    "\n",
    "# Example\n",
    "# The len() function returns the length of a string:\n",
    "\n",
    "a = \"Hello, World!\"\n",
    "print(len(a))\n",
    "\n",
    "# Use it in an if statement:\n",
    "\n",
    "# Example\n",
    "# Print only if \"free\" is present:\n",
    "\n",
    "txt = \"The best things in life are free!\"\n",
    "if \"free\" in txt:\n",
    "  print(\"Yes, 'free' is present.\")"
   ]
  },
  {
   "cell_type": "code",
   "execution_count": 8,
   "id": "bc76b4d2",
   "metadata": {},
   "outputs": [
    {
     "name": "stdout",
     "output_type": "stream",
     "text": [
      "True\n"
     ]
    }
   ],
   "source": [
    "# Check String\n",
    "# To check if a certain phrase or character is present in a string, we can use the keyword in.\n",
    "\n",
    "# Example\n",
    "# Check if \"free\" is present in the following text:\n",
    "\n",
    "txt = \"The best things in life are free!\"\n",
    "print(\"free\" in txt)"
   ]
  },
  {
   "cell_type": "code",
   "execution_count": 10,
   "id": "de7c8e18",
   "metadata": {},
   "outputs": [
    {
     "name": "stdout",
     "output_type": "stream",
     "text": [
      "True\n",
      "No, 'expensive' is NOT present.\n"
     ]
    }
   ],
   "source": [
    "# Check if NOT\n",
    "# To check if a certain phrase or character is NOT present in a string, we can use the keyword not in.\n",
    "\n",
    "# Example\n",
    "# Check if \"expensive\" is NOT present in the following text:\n",
    "\n",
    "txt = \"The best things in life are free!\"\n",
    "print(\"expensive\" not in txt)\n",
    "\n",
    "\n",
    "# Use it in an if statement:\n",
    "\n",
    "# Example\n",
    "# print only if \"expensive\" is NOT present:\n",
    "\n",
    "txt = \"The best things in life are free!\"\n",
    "if \"expensive\" not in txt:\n",
    "  print(\"No, 'expensive' is NOT present.\")"
   ]
  },
  {
   "cell_type": "code",
   "execution_count": 11,
   "id": "3d2d4b78",
   "metadata": {},
   "outputs": [
    {
     "name": "stdout",
     "output_type": "stream",
     "text": [
      "llo\n",
      "Hello\n"
     ]
    }
   ],
   "source": [
    "# Slicing\n",
    "# You can return a range of characters by using the slice syntax.\n",
    "\n",
    "# Specify the start index and the end index, separated by a colon, to return a part of the string.\n",
    "\n",
    "# Get the characters from position 2 to position 5 (not included):\n",
    "\n",
    "b = \"Hello, World!\"\n",
    "print(b[2:5])\n",
    "# Note: The first character has index 0.\n",
    "\n",
    "# Slice From the Start\n",
    "# By leaving out the start index, the range will start at the first character:\n",
    "\n",
    "# Example\n",
    "# Get the characters from the start to position 5 (not included):\n",
    "\n",
    "b = \"Hello, World!\"\n",
    "print(b[:5])"
   ]
  },
  {
   "cell_type": "code",
   "execution_count": 12,
   "id": "31fc7e2a",
   "metadata": {},
   "outputs": [
    {
     "name": "stdout",
     "output_type": "stream",
     "text": [
      "llo, World!\n",
      "orl\n"
     ]
    }
   ],
   "source": [
    "# Slice To the End\n",
    "# By leaving out the end index, the range will go to the end:\n",
    "\n",
    "# Example\n",
    "# Get the characters from position 2, and all the way to the end:\n",
    "\n",
    "b = \"Hello, World!\"\n",
    "print(b[2:])\n",
    "# Negative Indexing\n",
    "# Use negative indexes to start the slice from the end of the string:\n",
    "# Example\n",
    "# Get the characters:\n",
    "\n",
    "# From: \"o\" in \"World!\" (position -5)\n",
    "\n",
    "# To, but not included: \"d\" in \"World!\" (position -2):\n",
    "\n",
    "b = \"Hello, World!\"\n",
    "print(b[-5:-2])"
   ]
  },
  {
   "cell_type": "code",
   "execution_count": 13,
   "id": "87033687",
   "metadata": {},
   "outputs": [
    {
     "name": "stdout",
     "output_type": "stream",
     "text": [
      "HELLO, WORLD!\n",
      "hello, world!\n",
      "Hello, World!\n",
      "Jello, World!\n",
      "['Hello', ' World!']\n"
     ]
    }
   ],
   "source": [
    "# Python has a set of built-in methods that you can use on strings.\n",
    "\n",
    "# Upper Case\n",
    "# ExampleGet your own Python Server\n",
    "# The upper() method returns the string in upper case:\n",
    "\n",
    "a = \"Hello, World!\"\n",
    "print(a.upper())\n",
    "# Lower Case\n",
    "# Example\n",
    "# The lower() method returns the string in lower case:\n",
    "\n",
    "a = \"Hello, World!\"\n",
    "print(a.lower())\n",
    "# Remove Whitespace\n",
    "# Whitespace is the space before and/or after the actual text, and very often you want to remove this space.\n",
    "\n",
    "# Example\n",
    "# The strip() method removes any whitespace from the beginning or the end:\n",
    "\n",
    "a = \" Hello, World! \"\n",
    "print(a.strip()) # returns \"Hello, World!\"\n",
    "# Replace String\n",
    "# Example\n",
    "# The replace() method replaces a string with another string:\n",
    "\n",
    "a = \"Hello, World!\"\n",
    "print(a.replace(\"H\", \"J\"))\n",
    "# Split String\n",
    "# The split() method returns a list where the text between the specified separator becomes the list items.\n",
    "\n",
    "# Example\n",
    "# The split() method splits the string into substrings if it finds instances of the separator:\n",
    "\n",
    "a = \"Hello, World!\"\n",
    "print(a.split(\",\")) # returns ['Hello', ' World!']\n"
   ]
  },
  {
   "cell_type": "code",
   "execution_count": 14,
   "id": "f591f950",
   "metadata": {},
   "outputs": [
    {
     "name": "stdout",
     "output_type": "stream",
     "text": [
      "HelloWorld\n",
      "Hello World\n"
     ]
    }
   ],
   "source": [
    "# String Concatenation\n",
    "# To concatenate, or combine, two strings you can use the + operator.\n",
    "\n",
    "# ExampleGet your own Python Server\n",
    "# Merge variable a with variable b into variable c:\n",
    "\n",
    "a = \"Hello\"\n",
    "b = \"World\"\n",
    "c = a + b\n",
    "print(c)\n",
    "# Example\n",
    "# To add a space between them, add a \" \":\n",
    "\n",
    "a = \"Hello\"\n",
    "b = \"World\"\n",
    "c = a + \" \" + b\n",
    "print(c)"
   ]
  },
  {
   "cell_type": "code",
   "execution_count": null,
   "id": "fdf232b6",
   "metadata": {},
   "outputs": [
    {
     "ename": "TypeError",
     "evalue": "can only concatenate str (not \"int\") to str",
     "output_type": "error",
     "traceback": [
      "\u001b[31m---------------------------------------------------------------------------\u001b[39m",
      "\u001b[31mTypeError\u001b[39m                                 Traceback (most recent call last)",
      "\u001b[36mCell\u001b[39m\u001b[36m \u001b[39m\u001b[32mIn[15]\u001b[39m\u001b[32m, line 6\u001b[39m\n\u001b[32m      1\u001b[39m \u001b[38;5;66;03m# String Format\u001b[39;00m\n\u001b[32m      2\u001b[39m \u001b[38;5;66;03m# As we learned in the Python Variables chapter, we cannot combine strings and numbers like this:\u001b[39;00m\n\u001b[32m      3\u001b[39m \n\u001b[32m      4\u001b[39m \u001b[38;5;66;03m# ExampleGet your own Python Server\u001b[39;00m\n\u001b[32m      5\u001b[39m age = \u001b[32m36\u001b[39m\n\u001b[32m----> \u001b[39m\u001b[32m6\u001b[39m txt = \u001b[33;43m\"\u001b[39;49m\u001b[33;43mMy name is John, I am \u001b[39;49m\u001b[33;43m\"\u001b[39;49m\u001b[43m \u001b[49m\u001b[43m+\u001b[49m\u001b[43m \u001b[49m\u001b[43mage\u001b[49m\n\u001b[32m      7\u001b[39m \u001b[38;5;28mprint\u001b[39m(txt)\n\u001b[32m      8\u001b[39m \u001b[38;5;66;03m# But we can combine strings and numbers by using f-strings or the format() method!\u001b[39;00m\n",
      "\u001b[31mTypeError\u001b[39m: can only concatenate str (not \"int\") to str"
     ]
    }
   ],
   "source": [
    "# String Format\n",
    "# As we learned in the Python Variables chapter, we cannot combine strings and numbers like this:\n",
    "\n",
    "age = 36\n",
    "txt = \"My name is John, I am \" + age\n",
    "print(txt)\n",
    "\n",
    "# It will give an error\n"
   ]
  },
  {
   "cell_type": "code",
   "execution_count": 16,
   "id": "befbfdd3",
   "metadata": {},
   "outputs": [
    {
     "name": "stdout",
     "output_type": "stream",
     "text": [
      "My name is John, I am 36\n",
      "The price is 59 dollars\n",
      "The price is 59.00 dollars\n",
      "The price is 1180 dollars\n"
     ]
    }
   ],
   "source": [
    "# But we can combine strings and numbers by using f-strings or the format() method!\n",
    "\n",
    "# F-Strings\n",
    "# F-String was introduced in Python 3.6, and is now the preferred way of formatting strings.\n",
    "\n",
    "# To specify a string as an f-string, simply put an f in front of the string literal, and add curly brackets {} as placeholders for variables and other operations.\n",
    "\n",
    "# Example\n",
    "# Create an f-string:\n",
    "\n",
    "age = 36\n",
    "txt = f\"My name is John, I am {age}\"\n",
    "print(txt)\n",
    "# Placeholders and Modifiers\n",
    "# A placeholder can contain variables, operations, functions, and modifiers to format the value.\n",
    "\n",
    "# Example\n",
    "# Add a placeholder for the price variable:\n",
    "\n",
    "price = 59\n",
    "txt = f\"The price is {price} dollars\"\n",
    "print(txt)\n",
    "# A placeholder can include a modifier to format the value.\n",
    "\n",
    "# A modifier is included by adding a colon : followed by a legal formatting type, like .2f which means fixed point number with 2 decimals:\n",
    "\n",
    "# Example\n",
    "# Display the price with 2 decimals:\n",
    "\n",
    "price = 59\n",
    "txt = f\"The price is {price:.2f} dollars\"\n",
    "print(txt)\n",
    "# A placeholder can contain Python code, like math operations:\n",
    "\n",
    "# Example\n",
    "# Perform a math operation in the placeholder, and return the result:\n",
    "\n",
    "txt = f\"The price is {20 * 59} dollars\"\n",
    "print(txt)"
   ]
  },
  {
   "cell_type": "code",
   "execution_count": 17,
   "id": "00e64714",
   "metadata": {},
   "outputs": [
    {
     "ename": "SyntaxError",
     "evalue": "invalid syntax (427099987.py, line 11)",
     "output_type": "error",
     "traceback": [
      "  \u001b[36mCell\u001b[39m\u001b[36m \u001b[39m\u001b[32mIn[17]\u001b[39m\u001b[32m, line 11\u001b[39m\n\u001b[31m    \u001b[39m\u001b[31mtxt = \"We are the so-called \"Vikings\" from the north.\"\u001b[39m\n                                 ^\n\u001b[31mSyntaxError\u001b[39m\u001b[31m:\u001b[39m invalid syntax\n"
     ]
    }
   ],
   "source": [
    "# Escape Character\n",
    "# To insert characters that are illegal in a string, use an escape character.\n",
    "\n",
    "# An escape character is a backslash \\ followed by the character you want to insert.\n",
    "\n",
    "# An example of an illegal character is a double quote inside a string that is surrounded by double quotes:\n",
    "\n",
    "# ExampleGet your own Python Server\n",
    "# You will get an error if you use double quotes inside a string that is surrounded by double quotes:\n",
    "\n",
    "txt = \"We are the so-called \"Vikings\" from the north.\""
   ]
  },
  {
   "cell_type": "code",
   "execution_count": null,
   "id": "2f8a67e5",
   "metadata": {},
   "outputs": [],
   "source": [
    "# To fix this problem, use the escape character \\\":\n",
    "\n",
    "# Example\n",
    "# The escape character allows you to use double quotes when you normally would not be allowed:\n",
    "\n",
    "txt = \"We are the so-called \\\"Vikings\\\" from the north.\"\n",
    "# Escape Characters\n",
    "# Other escape characters used in Python:\n",
    "\n",
    "# Code\tResult\tTry it\n",
    "# \\'\tSingle Quote\t\n",
    "# \\\\\tBackslash\t\n",
    "# \\n\tNew Line\t\n",
    "# \\r\tCarriage Return\t\n",
    "# \\t\tTab\t\n",
    "# \\b\tBackspace\t\n",
    "# \\f\tForm Feed\t\n",
    "# \\ooo\tOctal value\t\n",
    "# \\xhh\tHex value"
   ]
  },
  {
   "cell_type": "code",
   "execution_count": null,
   "metadata": {},
   "outputs": [],
   "source": [
    "# String Methods\n",
    "# Python has a set of built-in methods that you can use on strings.\n",
    "\n",
    "# Note: All string methods return new values. They do not change the original string.\n",
    "\n",
    "# Method\tDescription\n",
    "# capitalize()\tConverts the first character to upper case\n",
    "# casefold()\tConverts string into lower case\n",
    "# center()\tReturns a centered string\n",
    "# count()\tReturns the number of times a specified value occurs in a string\n",
    "# encode()\tReturns an encoded version of the string\n",
    "# endswith()\tReturns true if the string ends with the specified value\n",
    "# expandtabs()\tSets the tab size of the string\n",
    "# find()\tSearches the string for a specified value and returns the position of where it was found\n",
    "# format()\tFormats specified values in a string\n",
    "# format_map()\tFormats specified values in a string\n",
    "# index()\tSearches the string for a specified value and returns the position of where it was found\n",
    "# isalnum()\tReturns True if all characters in the string are alphanumeric\n",
    "# isalpha()\tReturns True if all characters in the string are in the alphabet\n",
    "# isascii()\tReturns True if all characters in the string are ascii characters\n",
    "# isdecimal()\tReturns True if all characters in the string are decimals\n",
    "# isdigit()\tReturns True if all characters in the string are digits\n",
    "# isidentifier()\tReturns True if the string is an identifier\n",
    "# islower()\tReturns True if all characters in the string are lower case\n",
    "# isnumeric()\tReturns True if all characters in the string are numeric\n",
    "# isprintable()\tReturns True if all characters in the string are printable\n",
    "# isspace()\tReturns True if all characters in the string are whitespaces\n",
    "# istitle()\tReturns True if the string follows the rules of a title\n",
    "# isupper()\tReturns True if all characters in the string are upper case\n",
    "# join()\tJoins the elements of an iterable to the end of the string\n",
    "# ljust()\tReturns a left justified version of the string\n",
    "# lower()\tConverts a string into lower case\n",
    "# lstrip()\tReturns a left trim version of the string\n",
    "# maketrans()\tReturns a translation table to be used in translations\n",
    "# partition()\tReturns a tuple where the string is parted into three parts\n",
    "# replace()\tReturns a string where a specified value is replaced with a specified value\n",
    "# rfind()\tSearches the string for a specified value and returns the last position of where it was found\n",
    "# rindex()\tSearches the string for a specified value and returns the last position of where it was found\n",
    "# rjust()\tReturns a right justified version of the string\n",
    "# rpartition()\tReturns a tuple where the string is parted into three parts\n",
    "# rsplit()\tSplits the string at the specified separator, and returns a list\n",
    "# rstrip()\tReturns a right trim version of the string\n",
    "# split()\tSplits the string at the specified separator, and returns a list\n",
    "# splitlines()\tSplits the string at line breaks and returns a list\n",
    "# startswith()\tReturns true if the string starts with the specified value\n",
    "# strip()\tReturns a trimmed version of the string\n",
    "# swapcase()\tSwaps cases, lower case becomes upper case and vice versa\n",
    "# title()\tConverts the first character of each word to upper case\n",
    "# translate()\tReturns a translated string\n",
    "# upper()\tConverts a string into upper case\n",
    "# zfill()\tFills the string with a specified number of 0 values at the beginning"
   ]
  },
  {
   "cell_type": "code",
   "execution_count": null,
   "id": "0853983f",
   "metadata": {},
   "outputs": [],
   "source": []
  }
 ],
 "metadata": {
  "kernelspec": {
   "display_name": "Python 3",
   "language": "python",
   "name": "python3"
  },
  "language_info": {
   "codemirror_mode": {
    "name": "ipython",
    "version": 3
   },
   "file_extension": ".py",
   "mimetype": "text/x-python",
   "name": "python",
   "nbconvert_exporter": "python",
   "pygments_lexer": "ipython3",
   "version": "3.13.2"
  }
 },
 "nbformat": 4,
 "nbformat_minor": 5
}
