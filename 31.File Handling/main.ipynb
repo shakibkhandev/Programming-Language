{
 "cells": [
  {
   "cell_type": "code",
   "execution_count": null,
   "metadata": {},
   "outputs": [],
   "source": [
    "# Python File Open\n",
    "# File handling is an important part of any web application.\n",
    "\n",
    "# Python has several functions for creating, reading, updating, and deleting files.\n",
    "\n",
    "# File Handling\n",
    "# The key function for working with files in Python is the open() function.\n",
    "\n",
    "# The open() function takes two parameters; filename, and mode.\n",
    "\n",
    "# There are four different methods (modes) for opening a file:\n",
    "\n",
    "# \"r\" - Read - Default value. Opens a file for reading, error if the file does not exist\n",
    "\n",
    "# \"a\" - Append - Opens a file for appending, creates the file if it does not exist\n",
    "\n",
    "# \"w\" - Write - Opens a file for writing, creates the file if it does not exist\n",
    "\n",
    "# \"x\" - Create - Creates the specified file, returns an error if the file exists\n",
    "\n",
    "# In addition you can specify if the file should be handled as binary or text mode\n",
    "\n",
    "# \"t\" - Text - Default value. Text mode\n",
    "\n",
    "# \"b\" - Binary - Binary mode (e.g. images)"
   ]
  },
  {
   "cell_type": "code",
   "execution_count": 3,
   "metadata": {},
   "outputs": [
    {
     "name": "stdout",
     "output_type": "stream",
     "text": [
      "<_io.TextIOWrapper name='demo.txt' mode='r' encoding='cp1252'>\n"
     ]
    }
   ],
   "source": [
    "# Syntax\n",
    "# To open a file for reading it is enough to specify the name of the file:\n",
    "\n",
    "f = open(\"demo.txt\")\n",
    "print(f)"
   ]
  },
  {
   "cell_type": "code",
   "execution_count": 5,
   "metadata": {},
   "outputs": [
    {
     "name": "stdout",
     "output_type": "stream",
     "text": [
      "Hello! Welcome to demofile.txt\n",
      "This file is for testing purposes.\n",
      "Good Luck!\n"
     ]
    }
   ],
   "source": [
    "# Python File Open\n",
    "# Open a File on the Server\n",
    "# Assume we have the following file, located in the same folder as Python:\n",
    "\n",
    "# To open the file, use the built-in open() function.\n",
    "\n",
    "# The open() function returns a file object, which has a read() method for reading the content of the file:\n",
    "\n",
    "f = open(\"demo.txt\", \"r\")\n",
    "print(f.read())"
   ]
  },
  {
   "cell_type": "code",
   "execution_count": 8,
   "metadata": {},
   "outputs": [
    {
     "name": "stdout",
     "output_type": "stream",
     "text": [
      "Hello! Welcome to demofile.txt\n",
      "\n"
     ]
    }
   ],
   "source": [
    "# Read Lines\n",
    "# You can return one line by using the readline() method:\n",
    "\n",
    "# Example\n",
    "# Read one line of the file:\n",
    "\n",
    "f = open(\"demo.txt\", \"r\")\n",
    "print(f.readline())"
   ]
  },
  {
   "cell_type": "code",
   "execution_count": 9,
   "metadata": {},
   "outputs": [
    {
     "name": "stdout",
     "output_type": "stream",
     "text": [
      "Hello! Welcome to demofile.txt\n",
      "\n",
      "This file is for testing purposes.\n",
      "\n"
     ]
    }
   ],
   "source": [
    "# By calling readline() two times, you can read the two first lines:\n",
    "\n",
    "# Example\n",
    "# Read two lines of the file:\n",
    "\n",
    "f = open(\"demo.txt\", \"r\")\n",
    "print(f.readline())\n",
    "print(f.readline())"
   ]
  },
  {
   "cell_type": "code",
   "execution_count": 11,
   "metadata": {},
   "outputs": [
    {
     "name": "stdout",
     "output_type": "stream",
     "text": [
      "Hello! Welcome to demofile.txt\n",
      "\n",
      "This file is for testing purposes.\n",
      "\n",
      "Good Luck!\n"
     ]
    }
   ],
   "source": [
    "# By looping through the lines of the file, you can read the whole file, line by line:\n",
    "\n",
    "# Example\n",
    "# Loop through the file line by line:\n",
    "\n",
    "f = open(\"demo.txt\", \"r\")\n",
    "for x in f:\n",
    "  print(x)"
   ]
  },
  {
   "cell_type": "code",
   "execution_count": 13,
   "metadata": {},
   "outputs": [
    {
     "name": "stdout",
     "output_type": "stream",
     "text": [
      "Hello! Welcome to demofile.txt\n",
      "\n"
     ]
    }
   ],
   "source": [
    "# Close Files\n",
    "# It is a good practice to always close the file when you are done with it.\n",
    "\n",
    "# Example\n",
    "# Close the file when you are finished with it:\n",
    "\n",
    "f = open(\"demo.txt\", \"r\")\n",
    "print(f.readline())\n",
    "f.close()\n",
    "# Note: You should always close your files. In some cases, due to buffering, changes made to a file may not show until you close the file."
   ]
  },
  {
   "cell_type": "code",
   "execution_count": 14,
   "metadata": {},
   "outputs": [
    {
     "name": "stdout",
     "output_type": "stream",
     "text": [
      "Hello! Welcome to demofile.txt\n",
      "This file is for testing purposes.\n",
      "Good Luck!Now the file has more content!\n"
     ]
    }
   ],
   "source": [
    "# Write to an Existing File\n",
    "# To write to an existing file, you must add a parameter to the open() function:\n",
    "\n",
    "# \"a\" - Append - will append to the end of the file\n",
    "\n",
    "# \"w\" - Write - will overwrite any existing content\n",
    "\n",
    "# ExampleGet your own Python Server\n",
    "# Open the file \"demofile2.txt\" and append content to the file:\n",
    "\n",
    "f = open(\"demo.txt\", \"a\")\n",
    "f.write(\"Now the file has more content!\")\n",
    "f.close()\n",
    "\n",
    "#open and read the file after the appending:\n",
    "f = open(\"demo.txt\", \"r\")\n",
    "print(f.read())"
   ]
  },
  {
   "cell_type": "code",
   "execution_count": 15,
   "metadata": {},
   "outputs": [
    {
     "name": "stdout",
     "output_type": "stream",
     "text": [
      "Woops! I have deleted the content!\n"
     ]
    }
   ],
   "source": [
    "# Example\n",
    "# Open the file \"demofile3.txt\" and overwrite the content:\n",
    "\n",
    "f = open(\"demofile3.txt\", \"w\")\n",
    "f.write(\"Woops! I have deleted the content!\")\n",
    "f.close()\n",
    "\n",
    "#open and read the file after the overwriting:\n",
    "f = open(\"demofile3.txt\", \"r\")\n",
    "print(f.read())"
   ]
  },
  {
   "cell_type": "code",
   "execution_count": 16,
   "metadata": {},
   "outputs": [],
   "source": [
    "# Create a New File\n",
    "# To create a new file in Python, use the open() method, with one of the following parameters:\n",
    "\n",
    "# \"x\" - Create - will create a file, returns an error if the file exists\n",
    "\n",
    "# \"a\" - Append - will create a file if the specified file does not exists\n",
    "\n",
    "# \"w\" - Write - will create a file if the specified file does not exists\n",
    "\n",
    "# Example\n",
    "# Create a file called \"myfile.txt\":\n",
    "\n",
    "f = open(\"myfile.txt\", \"x\")\n",
    "# Result: a new empty file is created!\n",
    "\n",
    "# Example\n",
    "# Create a new file if it does not exist:\n",
    "\n",
    "f = open(\"myfile.txt\", \"w\")"
   ]
  },
  {
   "cell_type": "code",
   "execution_count": 20,
   "metadata": {},
   "outputs": [
    {
     "ename": "FileNotFoundError",
     "evalue": "[WinError 2] The system cannot find the file specified: 'demofile.txt'",
     "output_type": "error",
     "traceback": [
      "\u001b[31m---------------------------------------------------------------------------\u001b[39m",
      "\u001b[31mFileNotFoundError\u001b[39m                         Traceback (most recent call last)",
      "\u001b[36mCell\u001b[39m\u001b[36m \u001b[39m\u001b[32mIn[20]\u001b[39m\u001b[32m, line 8\u001b[39m\n\u001b[32m      1\u001b[39m \u001b[38;5;66;03m# Delete a File\u001b[39;00m\n\u001b[32m      2\u001b[39m \u001b[38;5;66;03m# To delete a file, you must import the OS module, and run its os.remove() function:\u001b[39;00m\n\u001b[32m      3\u001b[39m \n\u001b[32m      4\u001b[39m \u001b[38;5;66;03m# ExampleGet your own Python Server\u001b[39;00m\n\u001b[32m      5\u001b[39m \u001b[38;5;66;03m# Remove the file \"demofile.txt\":\u001b[39;00m\n\u001b[32m      7\u001b[39m \u001b[38;5;28;01mimport\u001b[39;00m\u001b[38;5;250m \u001b[39m\u001b[34;01mos\u001b[39;00m\n\u001b[32m----> \u001b[39m\u001b[32m8\u001b[39m \u001b[43mos\u001b[49m\u001b[43m.\u001b[49m\u001b[43mremove\u001b[49m\u001b[43m(\u001b[49m\u001b[33;43m\"\u001b[39;49m\u001b[33;43mdemofile.txt\u001b[39;49m\u001b[33;43m\"\u001b[39;49m\u001b[43m)\u001b[49m\n\u001b[32m     10\u001b[39m \u001b[38;5;66;03m# Delete Folder\u001b[39;00m\n\u001b[32m     11\u001b[39m \u001b[38;5;66;03m# To delete an entire folder, use the os.rmdir() method:\u001b[39;00m\n",
      "\u001b[31mFileNotFoundError\u001b[39m: [WinError 2] The system cannot find the file specified: 'demofile.txt'"
     ]
    }
   ],
   "source": [
    "# Delete a File\n",
    "# To delete a file, you must import the OS module, and run its os.remove() function:\n",
    "\n",
    "# ExampleGet your own Python Server\n",
    "# Remove the file \"demofile.txt\":\n",
    "\n",
    "import os\n",
    "os.remove(\"demofile.txt\")\n",
    "\n",
    "# Delete Folder\n",
    "# To delete an entire folder, use the os.rmdir() method:\n"
   ]
  },
  {
   "cell_type": "code",
   "execution_count": 18,
   "metadata": {},
   "outputs": [
    {
     "name": "stdout",
     "output_type": "stream",
     "text": [
      "The file does not exist\n"
     ]
    }
   ],
   "source": [
    "# Check if File exist:\n",
    "# To avoid getting an error, you might want to check if the file exists before you try to delete it:\n",
    "\n",
    "# Example\n",
    "# Check if file exists, then delete it:\n",
    "\n",
    "import os\n",
    "if os.path.exists(\"demofile.txt\"):\n",
    "  os.remove(\"demofile.txt\")\n",
    "else:\n",
    "  print(\"The file does not exist\")"
   ]
  },
  {
   "cell_type": "code",
   "execution_count": 19,
   "metadata": {},
   "outputs": [
    {
     "ename": "FileNotFoundError",
     "evalue": "[WinError 2] The system cannot find the file specified: 'myfolder'",
     "output_type": "error",
     "traceback": [
      "\u001b[31m---------------------------------------------------------------------------\u001b[39m",
      "\u001b[31mFileNotFoundError\u001b[39m                         Traceback (most recent call last)",
      "\u001b[36mCell\u001b[39m\u001b[36m \u001b[39m\u001b[32mIn[19]\u001b[39m\u001b[32m, line 5\u001b[39m\n\u001b[32m      1\u001b[39m \u001b[38;5;66;03m# Example\u001b[39;00m\n\u001b[32m      2\u001b[39m \u001b[38;5;66;03m# Remove the folder \"myfolder\":\u001b[39;00m\n\u001b[32m      4\u001b[39m \u001b[38;5;28;01mimport\u001b[39;00m\u001b[38;5;250m \u001b[39m\u001b[34;01mos\u001b[39;00m\n\u001b[32m----> \u001b[39m\u001b[32m5\u001b[39m \u001b[43mos\u001b[49m\u001b[43m.\u001b[49m\u001b[43mrmdir\u001b[49m\u001b[43m(\u001b[49m\u001b[33;43m\"\u001b[39;49m\u001b[33;43mmyfolder\u001b[39;49m\u001b[33;43m\"\u001b[39;49m\u001b[43m)\u001b[49m\n\u001b[32m      6\u001b[39m \u001b[38;5;66;03m# Note: You can only remove empty folders.\u001b[39;00m\n",
      "\u001b[31mFileNotFoundError\u001b[39m: [WinError 2] The system cannot find the file specified: 'myfolder'"
     ]
    }
   ],
   "source": [
    "# Example\n",
    "# Remove the folder \"myfolder\":\n",
    "\n",
    "import os\n",
    "os.rmdir(\"myfolder\")\n",
    "# Note: You can only remove empty folders.\n"
   ]
  }
 ],
 "metadata": {
  "kernelspec": {
   "display_name": "Python 3",
   "language": "python",
   "name": "python3"
  },
  "language_info": {
   "codemirror_mode": {
    "name": "ipython",
    "version": 3
   },
   "file_extension": ".py",
   "mimetype": "text/x-python",
   "name": "python",
   "nbconvert_exporter": "python",
   "pygments_lexer": "ipython3",
   "version": "3.13.2"
  }
 },
 "nbformat": 4,
 "nbformat_minor": 2
}
