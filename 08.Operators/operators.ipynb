{
 "cells": [
  {
   "cell_type": "code",
   "execution_count": 1,
   "id": "fb33658a",
   "metadata": {},
   "outputs": [
    {
     "name": "stdout",
     "output_type": "stream",
     "text": [
      "15\n"
     ]
    }
   ],
   "source": [
    "# Python Operators\n",
    "# Operators are used to perform operations on variables and values.\n",
    "\n",
    "# In the example below, we use the + operator to add together two values:\n",
    "\n",
    "# ExampleGet your own Python Server\n",
    "print(10 + 5)\n",
    "# Python divides the operators in the following groups:\n",
    "\n",
    "# Arithmetic operators\n",
    "# Assignment operators\n",
    "# Comparison operators\n",
    "# Logical operators\n",
    "# Identity operators\n",
    "# Membership operators\n",
    "# Bitwise operators"
   ]
  },
  {
   "cell_type": "code",
   "execution_count": null,
   "id": "64e0b275",
   "metadata": {},
   "outputs": [],
   "source": [
    "# Python Arithmetic Operators\n",
    "# Arithmetic operators are used with numeric values to perform common mathematical operations:\n",
    "\n",
    "# Operator\tName\tExample\tTry it\n",
    "# +\tAddition\tx + y\t\n",
    "# -\tSubtraction\tx - y\t\n",
    "# *\tMultiplication\tx * y\t\n",
    "# /\tDivision\tx / y\t\n",
    "# %\tModulus\tx % y\t\n",
    "# **\tExponentiation\tx ** y\t\n",
    "# //\tFloor division\tx // y"
   ]
  },
  {
   "cell_type": "code",
   "execution_count": null,
   "id": "c2989eb3",
   "metadata": {},
   "outputs": [],
   "source": [
    "# Python Assignment Operators\n",
    "# Assignment operators are used to assign values to variables:\n",
    "\n",
    "# Operator\tExample\tSame As\tTry it\n",
    "# =\tx = 5\tx = 5\t\n",
    "# +=\tx += 3\tx = x + 3\t\n",
    "# -=\tx -= 3\tx = x - 3\t\n",
    "# *=\tx *= 3\tx = x * 3\t\n",
    "# /=\tx /= 3\tx = x / 3\t\n",
    "# %=\tx %= 3\tx = x % 3\t\n",
    "# //=\tx //= 3\tx = x // 3\t\n",
    "# **=\tx **= 3\tx = x ** 3\t\n",
    "# &=\tx &= 3\tx = x & 3\t\n",
    "# |=\tx |= 3\tx = x | 3\t\n",
    "# ^=\tx ^= 3\tx = x ^ 3\t\n",
    "# >>=\tx >>= 3\tx = x >> 3\t\n",
    "# <<=\tx <<= 3\tx = x << 3\t\n",
    "# :=\tprint(x := 3)\tx = 3\n",
    "# print(x)"
   ]
  },
  {
   "cell_type": "code",
   "execution_count": null,
   "id": "f2e69323",
   "metadata": {},
   "outputs": [],
   "source": [
    "# Python Comparison Operators\n",
    "# Comparison operators are used to compare two values:\n",
    "\n",
    "# Operator\tName\tExample\tTry it\n",
    "# ==\tEqual\tx == y\t\n",
    "# !=\tNot equal\tx != y\t\n",
    "# >\tGreater than\tx > y\t\n",
    "# <\tLess than\tx < y\t\n",
    "# >=\tGreater than or equal to\tx >= y\t\n",
    "# <=\tLess than or equal to\tx <= y"
   ]
  },
  {
   "cell_type": "code",
   "execution_count": null,
   "id": "8c91838b",
   "metadata": {},
   "outputs": [],
   "source": [
    "# Python Logical Operators\n",
    "# Logical operators are used to combine conditional statements:\n",
    "\n",
    "# Operator\tDescription\tExample\tTry it\n",
    "# and \tReturns True if both statements are true\tx < 5 and  x < 10\t\n",
    "# or\tReturns True if one of the statements is true\tx < 5 or x < 4\t\n",
    "# not\tReverse the result, returns False if the result is true\tnot(x < 5 and x < 10)"
   ]
  },
  {
   "cell_type": "code",
   "execution_count": null,
   "id": "bf018c18",
   "metadata": {},
   "outputs": [],
   "source": [
    "# Python Identity Operators\n",
    "# Identity operators are used to compare the objects, not if they are equal, but if they are actually the same object, with the same memory location:\n",
    "\n",
    "# Operator\tDescription\tExample\tTry it\n",
    "# is \tReturns True if both variables are the same object\tx is y\t\n",
    "# is not\tReturns True if both variables are not the same object\tx is not y"
   ]
  },
  {
   "cell_type": "code",
   "execution_count": null,
   "id": "6f036e40",
   "metadata": {},
   "outputs": [],
   "source": [
    "# Python Membership Operators\n",
    "# Membership operators are used to test if a sequence is presented in an object:\n",
    "\n",
    "# Operator\tDescription\tExample\tTry it\n",
    "# in \tReturns True if a sequence with the specified value is present in the object\tx in y\t\n",
    "# not in\tReturns True if a sequence with the specified value is not present in the object\tx not in y"
   ]
  },
  {
   "cell_type": "code",
   "execution_count": null,
   "id": "29eb4d68",
   "metadata": {},
   "outputs": [],
   "source": [
    "# Python Bitwise Operators\n",
    "# Bitwise operators are used to compare (binary) numbers:\n",
    "\n",
    "# Operator\tName\tDescription\tExample\tTry it\n",
    "# & \tAND\tSets each bit to 1 if both bits are 1\tx & y\t\n",
    "# |\tOR\tSets each bit to 1 if one of two bits is 1\tx | y\t\n",
    "# ^\tXOR\tSets each bit to 1 if only one of two bits is 1\tx ^ y\t\n",
    "# ~\tNOT\tInverts all the bits\t~x\t\n",
    "# <<\tZero fill left shift\tShift left by pushing zeros in from the right and let the leftmost bits fall off\tx << 2\t\n",
    "# >>\tSigned right shift\tShift right by pushing copies of the leftmost bit in from the left, and let the rightmost bits fall off\tx >> 2"
   ]
  },
  {
   "cell_type": "code",
   "execution_count": 2,
   "id": "e7513727",
   "metadata": {},
   "outputs": [
    {
     "name": "stdout",
     "output_type": "stream",
     "text": [
      "0\n",
      "115\n",
      "5\n"
     ]
    }
   ],
   "source": [
    "# Operator Precedence\n",
    "# Operator precedence describes the order in which operations are performed.\n",
    "\n",
    "# Example\n",
    "# Parentheses has the highest precedence, meaning that expressions inside parentheses must be evaluated first:\n",
    "\n",
    "print((6 + 3) - (6 + 3))\n",
    "# Example\n",
    "# Multiplication * has higher precedence than addition +, and therefore multiplications are evaluated before additions:\n",
    "\n",
    "print(100 + 5 * 3)\n",
    "# The precedence order is described in the table below, starting with the highest precedence at the top:\n",
    "\n",
    "# Operator\tDescription\tTry it\n",
    "# ()\tParentheses\t\n",
    "# **\tExponentiation\t\n",
    "# +x  -x  ~x\tUnary plus, unary minus, and bitwise NOT\t\n",
    "# *  /  //  %\tMultiplication, division, floor division, and modulus\t\n",
    "# +  -\tAddition and subtraction\t\n",
    "# <<  >>\tBitwise left and right shifts\t\n",
    "# &\tBitwise AND\t\n",
    "# ^\tBitwise XOR\t\n",
    "# |\tBitwise OR\t\n",
    "# ==  !=  >  >=  <  <=  is  is not  in  not in \tComparisons, identity, and membership operators\t\n",
    "# not\tLogical NOT\t\n",
    "# and\tAND\t\n",
    "# or\tOR\t\n",
    "# If two operators have the same precedence, the expression is evaluated from left to right.\n",
    "\n",
    "# Example\n",
    "# Addition + and subtraction - has the same precedence, and therefore we evaluate the expression from left to right:\n",
    "\n",
    "print(5 + 4 - 7 + 3)"
   ]
  }
 ],
 "metadata": {
  "kernelspec": {
   "display_name": "Python 3",
   "language": "python",
   "name": "python3"
  },
  "language_info": {
   "codemirror_mode": {
    "name": "ipython",
    "version": 3
   },
   "file_extension": ".py",
   "mimetype": "text/x-python",
   "name": "python",
   "nbconvert_exporter": "python",
   "pygments_lexer": "ipython3",
   "version": "3.13.2"
  }
 },
 "nbformat": 4,
 "nbformat_minor": 5
}
